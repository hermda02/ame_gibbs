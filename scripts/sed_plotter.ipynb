{
 "cells": [
  {
   "cell_type": "code",
   "execution_count": 1,
   "metadata": {},
   "outputs": [],
   "source": [
    "import numpy as np\n",
    "import healpy as hp\n",
    "import matplotlib as mpl\n",
    "from   matplotlib import cm\n",
    "import matplotlib.pyplot as plt\n",
    "from scipy.integrate import cumtrapz\n",
    "from astropy.constants import h\n",
    "from astropy.constants import k_B\n",
    "\n",
    "T_cmb = 2.7255\n",
    "\n",
    "mpl.rcParams['text.usetex'] = True"
   ]
  },
  {
   "cell_type": "code",
   "execution_count": 2,
   "metadata": {},
   "outputs": [],
   "source": [
    "def cmb_to_rj(freq,data):\n",
    "    y          = h.value*(freq*1e9)/ (k_B.value*T_cmb)\n",
    "    conversion = (y**2.0*np.exp(y))/(np.exp(y)-1)**2.0\n",
    "    return data*conversion"
   ]
  },
  {
   "cell_type": "code",
   "execution_count": 3,
   "metadata": {},
   "outputs": [],
   "source": [
    "# SED functions, all given in units of uK_RJ\n",
    "def power_law(amp,ref,x,beta):\n",
    "    return amp*(x/ref)**(beta)\n",
    "\n",
    "def mbb(amp,ref,x,td,beta):\n",
    "    # Inputs need to be in GHz.\n",
    "    z = h.value / (k_B.value*td)\n",
    "    return amp*(np.exp(z*ref*1e9)-1.0)/(np.exp(x*1e9*z)-1.0)*(x/ref)**(beta+1.0)\n",
    "\n",
    "# Used to shift the spdust spectrum                                                                                                                                                                                \n",
    "def sdust(nu, Asd, nu_p, nuref):\n",
    "    nu_ref = nuref*1e9\n",
    "    nu_p0 = 30.*1e9\n",
    "    nu_p *= 1e9\n",
    "    \n",
    "    fnu, f = np.loadtxt(\"../../../ame_spectra/spdust2_cnm.dat\", unpack=True)\n",
    "    fnu *= 1e9\n",
    "    # MAKE SURE THAT THESE ARE BOTH IN 1e9                                                                                                                                                                         \n",
    "    scale = nu_p0/nu_p\n",
    "\n",
    "    f = np.interp(scale*nu*1e9, fnu, f)\n",
    "    f0 = np.interp(scale*nu_ref, scale*nu*1e9, f) # Value of s at nu_0\n",
    "    # Move from intensity to uK_RJ\n",
    "    s_sd = (nu_ref/nu*1e9)**2*f/f0\n",
    "    return s_sd/np.max(s_sd)"
   ]
  },
  {
   "cell_type": "code",
   "execution_count": 4,
   "metadata": {},
   "outputs": [],
   "source": [
    "def mask_maps(mask,pol):\n",
    "    for i in range(len(mask)):\n",
    "        if (pol == 'Q'):\n",
    "            if (mask[i] == hp.UNSEEN):\n",
    "#                 I_ame_over_I_353[i] = 0.0 \n",
    "#                 synch_Q_scaled[i]   = 0.0\n",
    "                I_ame_over_I_353[i] = np.nan\n",
    "                synch_Q_scaled[i]   = np.nan\n",
    "        elif (pol == 'U'):\n",
    "            if (mask[i] == hp.UNSEEN):\n",
    "#                 I_ame_over_I_353[i] = 0.0 \n",
    "#                 synch_U_scaled[i]   = 0.0\n",
    "                I_ame_over_I_353[i] = np.nan\n",
    "                synch_U_scaled[i]   = np.nan\n",
    "        elif (pol == 'P'):\n",
    "            if (mask[i] == hp.UNSEEN):\n",
    "#                 I_ame_over_I_353[i] = 0.0 \n",
    "#                 synch_P_scaled[i]   = 0.0\n",
    "                I_ame_over_I_353[i] = np.nan\n",
    "                synch_P_scaled[i]   = np.nan\n",
    "        else:\n",
    "            print(\"Unusable pol type (use 'Q', 'U', or 'P').\")\n",
    "            \n",
    "def sky_frac(map):\n",
    "    masked = 0\n",
    "    for i in range(len(map)):\n",
    "        if (map[i] == hp.UNSEEN):\n",
    "            masked += 1\n",
    "            \n",
    "    print('Sky fraction: ', 1.-masked/len(map))"
   ]
  },
  {
   "cell_type": "code",
   "execution_count": 5,
   "metadata": {},
   "outputs": [],
   "source": [
    "def plot_SED():\n",
    "    fig, ax = plt.subplots(figsize=(6,6))\n",
    "\n",
    "    # Synch\n",
    "    ax.fill_between(x,power_law(s_Q_mean,44.0,x,beta_s),power_law(s_U_mean,44.0,x,beta_s),color='gray',alpha=0.2,label='Synch')\n",
    "#     ax.fill_between(x,power_law(s_P_mean,44.0,x,beta_s-0.01),power_law(s_P_mean,44.0,x,beta_s+0.01),color='gray',alpha=0.2,label='Synch')\n",
    "\n",
    " \n",
    "    # MBB + AME Pol\n",
    "    ax.plot(x,spdust_tot*(20./22.)+mbb(1.0,353.,x,19.6,1.60),color=colors[0],label=r'$p_{\\mathrm{AME}}^{max} = 20\\%$')\n",
    "    ax.plot(x,spdust_tot*(10./22.)+mbb(1.0,353.,x,19.6,1.60),color=colors[1],label=r'$p_{\\mathrm{AME}}^{max} = 10\\%$')\n",
    "    ax.plot(x,spdust_tot*(5./22.)+mbb(1.0,353.,x,19.6,1.60),color=colors[2],label=r'$p_{\\mathrm{AME}}^{max} = 5\\%$')\n",
    "    ax.plot(x,spdust_tot*(1./22.)+mbb(1.0,353.,x,19.6,1.60),color=colors[3],label=r'$p_{\\mathrm{AME}}^{max} = 1\\%$')\n",
    "    \n",
    "    ax.plot(x,mbb(1.0,353.,x,19.6,1.62),color=colors[5],label=r'$p_{\\mathrm{AME}}^{max} = 0\\%$') # Planck 2018 Dust Pol MBB\n",
    "    ax.fill_between(x,mbb(1.0,353.,x,19.6,beta_d_mean-beta_d_std),mbb(1.0,353.,x,19.5,beta_d_mean+beta_d_std),color=colors[5],alpha=0.2) # Planck 2018 Dust Pol MBB\n",
    "    \n",
    "    # Fit dust amplitudes\n",
    "    k = 0\n",
    "    ax.errorbar(freq,dust_Q_means,dust_Q_std,fmt='.',color='k',zorder=10,label='This work')\n",
    "    ax.errorbar(planck_XI_freq,planck_XI_mean,yerr=planck_XI_err,color='red',fmt='.',zorder=10,label='Planck XI EE')\n",
    "    if all(i >= 0.0 for i in dust_U_amps[0][:]):\n",
    "        ax.set_yscale('log')\n",
    "        ax.set_xscale('log')\n",
    "        ax.set_ylim([1e-2,2e0])\n",
    "        ax.set_xlim([10,200.])\n",
    "    else:\n",
    "        ax.set_ylim([-0.1,0.1])\n",
    "        ax.set_xlim([5,100])\n",
    "    ax.set_xticks([10, 40, 100])\n",
    "    ax.get_xaxis().set_major_formatter(mpl.ticker.ScalarFormatter())\n",
    "    ax.set_ylabel(r'$A/A_{353}\\, [\\mathrm{Brightness\\, Temperature\\, Units}]$',size=20)\n",
    "    ax.set_xlabel(r'$\\mathrm{Frequency\\, [GHz]}$',size=20)\n",
    "    ax.legend(loc=1)\n",
    "    plt.rc('ytick',labelsize=20)\n",
    "    plt.rc('xtick',labelsize=20)\n",
    "    plt.savefig('../'+dir+'/sed_fgs_mean_'+version+'.pdf',dpi=300,bbox_inches='tight')\n",
    "#     plt.show()    "
   ]
  },
  {
   "cell_type": "code",
   "execution_count": 6,
   "metadata": {},
   "outputs": [],
   "source": [
    "def fit_ame_2_amps(sdust,mbb,x,amps,freqs,err):\n",
    "    pols  = np.linspace(0,1,1000)\n",
    "    chisq = np.empty(1000)\n",
    "    \n",
    "    sed_size = len(mbb)\n",
    "#     print(sed_size)\n",
    "    \n",
    "    sig = np.empty((len(mbb),len(chisq)))\n",
    "    \n",
    "    \n",
    "    for i in range(1000):\n",
    "        sig[i] = mbb+pols[i]*sdust\n",
    "        for j in range(len(amps)):\n",
    "            chisq[i] += ((amps[j]-np.interp(freqs[j],x,sig[i]))**2)/(err[j]**2)\n",
    "     \n",
    "    indx = np.where(chisq == np.min(chisq))\n",
    "    pmax = 22*pols\n",
    "    post = np.exp(-0.5*chisq)\n",
    "    norm = np.trapz(post,pols)\n",
    "    \n",
    "    cumul = np.cumsum(post)\n",
    "    \n",
    "    dummy = np.empty(1000)\n",
    "\n",
    "    xfill = np.where(cumul/cumul[-1] < 0.95)[-1]\n",
    "    \n",
    "    return post/norm\n",
    "        \n",
    "#     fig, ax = plt.subplots(1,2,figsize=(12,6))\n",
    "#     ax[0].loglog(x,sig[0])\n",
    "#     for i in range(10):\n",
    "#         ax[0].loglog(x,sig[i*100-1])\n",
    "# #     ax[0].scatter(freqs,amps,color='k')\n",
    "#     ax[0].errorbar(freqs,amps,err,fmt='.',marker='x',color='k',zorder=10)\n",
    "#     ax[0].set_xlim([10,100])\n",
    "#     ax[0].set_ylim([1e-2,1])\n",
    "#     ax[0].set_xticks([10, 40, 100])\n",
    "#     ax[0].get_xaxis().set_major_formatter(mpl.ticker.ScalarFormatter())\n",
    "        \n",
    "#     ax[1].plot(pmax,post/norm)\n",
    "#     ax[1].set_xlabel(r'$p_{\\rm max}\\, [{\\rm \\%}]$',size=20)\n",
    "#     ax[1].set_ylabel(r'$p(p_{\\rm max}\\,|A_{\\rm d},\\,A_{\\rm s},\\,{\\rm d})$',size=20)\n",
    "# #     ax[1].set_xlim([0,5])\n",
    "#     ax[1].fill_between(pmax[:xfill[-1]],dummy[:xfill[-1]],post[:xfill[-1]]/norm,color='blue',alpha=0.4,label=r'${\\rm 95\\,\\%\\, Confidence\\, Interval}$')\n",
    "# #     ax[1].set_ylim([0,70])\n",
    "#     plt.rc('ytick',labelsize=20)\n",
    "#     plt.rc('xtick',labelsize=20)\n",
    "# #     ax[1].tick_params(axis='x', labelsize=20)\n",
    "# #     ax[1].tick_params(axis='y', labelsize=20)\n",
    "#     ax[1].legend(loc=1,prop={'size': 15})\n",
    "#     fig, ax = plt.subplots(figsize=(6,6))\n",
    "#     ax.plot(pmax,post/norm)\n",
    "#     ax.set_xlabel(r'$p_{\\rm max}\\, [{\\rm \\%}]$',size=20)\n",
    "#     ax.set_ylabel(r'$p(p_{\\rm max}\\,|A_{\\rm d},\\,A_{\\rm s},\\,{\\rm d})$',size=20)\n",
    "#     ax.set_xlim([0,20])\n",
    "#     ax.fill_between(pmax[:xfill[-1]],dummy[:xfill[-1]],post[:xfill[-1]]/norm,color='blue',alpha=0.4,label=r'${\\rm 95\\,\\%\\, Confidence\\, Interval}$')\n",
    "#     ax.set_ylim([0,3])\n",
    "#     plt.rc('ytick',labelsize=20)\n",
    "#     plt.rc('xtick',labelsize=20)\n",
    "# #     ax.tick_params(axis='x', labelsize=20)\n",
    "# #     ax.tick_params(axis='y', labelsize=20)\n",
    "#     ax.legend(loc=1,prop={'size': 15})\n",
    "\n",
    "#     plt.savefig('../'+dir+'/P_amp_bestfit_posterior_w_sed_'+version+'.pdf',dpi=300,bbox_inches='tight')\n",
    "#     plt.show()"
   ]
  },
  {
   "cell_type": "code",
   "execution_count": 7,
   "metadata": {},
   "outputs": [],
   "source": [
    "def read_params(filename):\n",
    "    labels = []\n",
    "    freq   = []\n",
    "    with open(filename,'r') as infile:\n",
    "        for line in infile:\n",
    "            if line.startswith('NUMBAND'):\n",
    "                numbands = int(line.split('=')[1])\n",
    "            if line.startswith('NUMGIBBS'):\n",
    "                numgibbs = int(line.split('=')[1][:5])\n",
    "            if line.startswith('COMP_PRIOR_GAUSS_BETA_MEAN01'):\n",
    "                beta_s = float(str.strip(line.split('=')[1]))\n",
    "            if line.startswith('MBB_TD_MEAN'):\n",
    "                t_d_mean = float(str.strip(line.split('=')[1]))\n",
    "            if line.startswith('MBB_TD_STD'):\n",
    "                t_d_std = float(str.strip(line.split('=')[1]))\n",
    "            if line.startswith('MBB_BETA_MEAN'):\n",
    "                beta_d_mean = float(str.strip(line.split('=')[1]))\n",
    "            if line.startswith('MBB_BETA_STD'):\n",
    "                beta_d_std = float(str.strip(line.split('=')[1]))\n",
    "                \n",
    "    blabs = []\n",
    "    bfreq = []\n",
    "    for band in range(numbands):\n",
    "        blabs.append('BAND_LABEL'+str(band+1).zfill(2))\n",
    "        bfreq.append('BAND_FREQ'+str(band+1).zfill(2))        \n",
    "    for band in range(numbands):\n",
    "         with open(filename,'r') as infile:\n",
    "            for line in infile:\n",
    "                if line.startswith(blabs[band]):\n",
    "                    name = str.strip(line.split('=')[1])\n",
    "                    labels.append(name)\n",
    "                if line.startswith(bfreq[band]):\n",
    "                    fre  = str.strip(line.split('=')[1])\n",
    "                    freq.append(float(fre))                    \n",
    "    \n",
    "    return labels, freq, numgibbs, beta_s, t_d_mean, t_d_std, beta_d_mean, beta_d_std"
   ]
  },
  {
   "cell_type": "code",
   "execution_count": 8,
   "metadata": {},
   "outputs": [
    {
     "name": "stdin",
     "output_type": "stream",
     "text": [
      "Which directory are we wanting to plot from?  bp_results_v09\n"
     ]
    },
    {
     "name": "stdout",
     "output_type": "stream",
     "text": [
      "v09\n"
     ]
    }
   ],
   "source": [
    "dir     = str(input('Which directory are we wanting to plot from? '))\n",
    "version = dir[dir.index('v'):dir.index('v')+3]\n",
    "print(version)"
   ]
  },
  {
   "cell_type": "code",
   "execution_count": 9,
   "metadata": {},
   "outputs": [
    {
     "name": "stdout",
     "output_type": "stream",
     "text": [
      "['bp\\\\_030', 'bp\\\\_044', 'bp\\\\_070', 'wmap\\\\_Ka', 'wmap\\\\_Q', 'wmap\\\\_V']\n",
      "[28.4, 44.1, 70.3, 33.0, 40.6, 60.8]\n",
      "-3.1\n",
      "19.6 0.0\n",
      "1.62 0.04\n"
     ]
    }
   ],
   "source": [
    "names, freq, num_samp, beta_s, t_d_mean, t_d_std, beta_d_mean, beta_d_std = read_params('../'+dir+'/param_'+dir+'.txt')\n",
    "labels = [name.replace(\"'\",\"\") for name in names]\n",
    "labels = [w.replace(\"_\",\"\\_\") for w in labels]\n",
    "num_bands = len(freq)\n",
    "print(labels)\n",
    "print(freq)\n",
    "print(beta_s)\n",
    "print(t_d_mean, t_d_std)\n",
    "print(beta_d_mean, beta_d_std)"
   ]
  },
  {
   "cell_type": "code",
   "execution_count": 10,
   "metadata": {},
   "outputs": [],
   "source": [
    "dust_353     = hp.read_map('../data/npipe6v20_353_map_n0064_60arcmin_uK.fits',field=(0,1,2),verbose=False)\n",
    "dust_353_rms = hp.read_map('../data/npipe6v20_353_n0064_rms_tqu_uK.fits',field=(0,1,2),verbose=False)\n",
    "ame_map      = hp.read_map('/home/daniel/data/planck_products/COM_CompMap_AME-commander_0064_R2.00.fits',field=0,verbose=False)\n",
    "npix         = len(ame_map)"
   ]
  },
  {
   "cell_type": "code",
   "execution_count": 11,
   "metadata": {},
   "outputs": [],
   "source": [
    "synch_Q_044  = hp.read_map('../'+dir+'/synch_Q_mean.fits',verbose=False)\n",
    "synch_U_044  = hp.read_map('../'+dir+'/synch_U_mean.fits',verbose=False)\n",
    "dust_Q_amps  = np.loadtxt('../'+dir+'/dust_353_Q_amplitudes.dat')\n",
    "# dust_Q_unc   = np.loadtxt('../'+dir+'/dust_Q_uncertainties.dat')\n",
    "dust_U_amps  = np.loadtxt('../'+dir+'/dust_353_U_amplitudes.dat')\n",
    "# dust_U_unc   = np.loadtxt('../'+dir+'/dust_U_uncertainties.dat')"
   ]
  },
  {
   "cell_type": "code",
   "execution_count": 12,
   "metadata": {},
   "outputs": [],
   "source": [
    "for i in range(len(synch_Q_044)):\n",
    "    if (synch_Q_044[i] == -1.6375e+30):\n",
    "#         print(synch_Q_044[i])\n",
    "        synch_Q_044[i] = 0.0\n",
    "        synch_U_044[i] = 0.0"
   ]
  },
  {
   "cell_type": "code",
   "execution_count": 13,
   "metadata": {},
   "outputs": [],
   "source": [
    "# Planck 2015 2 component AME details\n",
    "ame_comp1 = [92.,22.8,20.]   #<A_SD>,ref and peak freqs in GHz\n",
    "ame_comp2 = [18.,40.1,33.35] #<A_SD>,ref and peak freqs in GHz"
   ]
  },
  {
   "cell_type": "code",
   "execution_count": 14,
   "metadata": {},
   "outputs": [],
   "source": [
    "# Some plotting array of frequencies\n",
    "x = np.linspace(5,1000,1000)"
   ]
  },
  {
   "cell_type": "code",
   "execution_count": 15,
   "metadata": {},
   "outputs": [],
   "source": [
    "dust_353     = cmb_to_rj(353,dust_353)\n",
    "dust_353_rms = cmb_to_rj(353,dust_353_rms)"
   ]
  },
  {
   "cell_type": "code",
   "execution_count": 16,
   "metadata": {},
   "outputs": [
    {
     "name": "stdout",
     "output_type": "stream",
     "text": [
      "(150, 6)\n",
      "[0.09612342 0.06830495 0.         0.09126749 0.06392081 0.        ] [0.04007221 0.00926247 0.         0.02476553 0.01272981 0.        ]\n",
      "[0.09612342 0.06830495 0.         0.09126749 0.06392081 0.        ] [0.04007221 0.00926247 0.         0.02476553 0.01272981 0.        ]\n",
      "[0.13593905 0.09659779 0.         0.12907172 0.09039768 0.        ] [0.05667066 0.01309912 0.         0.03502374 0.01800268 0.        ]\n",
      "[28.4, 44.1, 70.3, 33.0, 40.6, 60.8]\n"
     ]
    }
   ],
   "source": [
    "dust_353_P   = np.empty(len(synch_Q_044))\n",
    "dust_P_rms   = np.empty(len(synch_Q_044))\n",
    "synch_P_044  = np.empty(np.shape(synch_Q_044))\n",
    "dust_P_amps  = np.empty(np.shape(dust_Q_amps))\n",
    "\n",
    "print(np.shape(dust_Q_amps))\n",
    "num_samp = np.shape(dust_Q_amps)[0]\n",
    "# dust_P_unc   = np.empty(len(dust_Q_unc))\n",
    "\n",
    "dust_Q_means = np.empty(np.shape(dust_Q_amps)[1])\n",
    "dust_U_means = np.empty(np.shape(dust_U_amps)[1])\n",
    "dust_P_means = np.empty(np.shape(dust_Q_means))\n",
    "dust_Q_std   = np.empty(np.shape(dust_Q_amps)[1])\n",
    "dust_U_std   = np.empty(np.shape(dust_U_amps)[1])\n",
    "dust_P_std   = np.empty(np.shape(dust_Q_means))\n",
    "\n",
    "for i in range(npix):\n",
    "    dust_353_P[i]  = np.sqrt(dust_353[1][i]**2 + dust_353[2][i]**2)\n",
    "    dust_P_rms[i]  = np.sqrt(dust_353_rms[1][i]**2 + dust_353_rms[2][i]**2)\n",
    "    if False:\n",
    "        for j in range(num_samp):\n",
    "            synch_P_044.T[j][i] = np.sqrt(synch_Q_044.T[j][i]**2 + synch_U_044.T[j][i]**2)\n",
    "    else:\n",
    "        synch_P_044[i] = np.sqrt(synch_Q_044[i]**2 + synch_U_044[i]**2)\n",
    "\n",
    "for i in range(num_samp):\n",
    "    for j in range(num_bands):\n",
    "        dust_P_amps[i][j] = np.sqrt(dust_Q_amps[i][j]**2 + dust_U_amps[i][j]**2)\n",
    "    \n",
    "# for i in range(len(dust_Q_unc)):\n",
    "#     dust_P_unc[i] = np.sqrt(dust_Q_unc[i]**2 + dust_U_unc[i]**2)\n",
    "\n",
    "for i in range(len(dust_Q_means)):\n",
    "    dust_Q_means[i] = np.mean(dust_Q_amps.T[:][i])\n",
    "    dust_U_means[i] = np.mean(dust_U_amps.T[:][i])\n",
    "    dust_P_means[i] = np.sqrt(dust_Q_means[i]**2 + dust_U_means[i]**2)\n",
    "    dust_Q_std[i]   = np.std(dust_Q_amps.T[:][i])\n",
    "    dust_U_std[i]   = np.std(dust_U_amps.T[:][i])\n",
    "    dust_P_std[i]   = np.std(dust_P_amps.T[:][i])\n",
    "   \n",
    "    \n",
    "print(dust_Q_means,dust_Q_std)#,dust_Q_unc)\n",
    "print(dust_U_means,dust_U_std)#,dust_U_unc)\n",
    "print(dust_P_means,dust_P_std)#,dust_P_unc)\n",
    "print(freq)"
   ]
  },
  {
   "cell_type": "code",
   "execution_count": 17,
   "metadata": {},
   "outputs": [],
   "source": [
    "planck_XI_freq = [44.1,70.3]\n",
    "planck_XI_mean = [6.0e-3,9.46e-3]\n",
    "planck_XI_err  = [1.1e-3,0.75e-3]\n",
    "\n",
    "for i in range(2):\n",
    "    planck_XI_mean[i] = 1/(cmb_to_rj(353.,1.0))*cmb_to_rj(planck_XI_freq[i],planck_XI_mean[i])\n",
    "    planck_XI_err[i]  = 1/(cmb_to_rj(353.,1.0))*cmb_to_rj(planck_XI_freq[i],planck_XI_err[i])"
   ]
  },
  {
   "cell_type": "code",
   "execution_count": 18,
   "metadata": {},
   "outputs": [],
   "source": [
    "# This approach will be to divide each map by the actual npip26v20 353 (Q or U) map for normalization\n",
    "# In essence, this means that in our 'units', the npipe6v20 is equal to 1.0 everywhere.\n",
    "mono_dip       = hp.remove_dipole(dust_353[0][:],gal_cut=75,verbose=False,fitval=True)\n",
    "# print(mono_dip[1])\n",
    "dust_353[0][:] = hp.remove_dipole(dust_353[0][:],gal_cut=75,verbose=False) + mono_dip[1]\n",
    "\n",
    "synch_Q_scaled = synch_Q_044/dust_353[1]\n",
    "synch_U_scaled = synch_U_044/dust_353[2]\n",
    "synch_P_scaled = synch_P_044/dust_353_P"
   ]
  },
  {
   "cell_type": "code",
   "execution_count": 19,
   "metadata": {},
   "outputs": [],
   "source": [
    "# The idea here is that if the AME is as polarized as dust, then\n",
    "# Q_{AME}/Q_{dust,353} = I_{AME}/I_{dust,353} <- cmb corrected of course\n",
    "\n",
    "I_ame_over_I_353    = ame_map/dust_353[0][:]"
   ]
  },
  {
   "cell_type": "code",
   "execution_count": 20,
   "metadata": {},
   "outputs": [],
   "source": [
    "# Make signal to noise maps \n",
    "s_n_Q        = dust_353[1][:]/dust_353_rms[1][:]\n",
    "s_n_U        = dust_353[2][:]/dust_353_rms[2][:]\n",
    "s_n_P        = dust_353_P/dust_P_rms\n",
    "mask_Q       = np.empty(len(s_n_Q))\n",
    "mask_U       = np.empty(len(s_n_U))\n",
    "mask_P       = np.empty(len(s_n_P))\n",
    "\n",
    "# Write something here about choosing a pixel, or s/n ratio for a sky fraction\n",
    "\n",
    "sn_lim = 0#float(input('Signal to noise limit: '))\n",
    "\n",
    "npix = len(synch_Q_044)\n",
    "Q_masked = 0\n",
    "U_masked = 0\n",
    "P_masked = 0"
   ]
  },
  {
   "cell_type": "code",
   "execution_count": 21,
   "metadata": {},
   "outputs": [],
   "source": [
    "for i in range(len(s_n_Q)):\n",
    "    if (np.abs(s_n_Q[i]) > sn_lim):\n",
    "        mask_Q[i] = 1.0\n",
    "    else:\n",
    "        Q_masked += 1\n",
    "        mask_Q[i] = hp.UNSEEN\n",
    "        s_n_Q[i]  = hp.UNSEEN\n",
    "\n",
    "    if (np.abs(s_n_U[i]) > sn_lim):\n",
    "        mask_U[i] = 1.0\n",
    "    else:\n",
    "        U_masked += 1\n",
    "        mask_U[i] = hp.UNSEEN\n",
    "        s_n_U[i]  = hp.UNSEEN\n",
    "        \n",
    "    if (np.abs(s_n_P[i]) > sn_lim):\n",
    "        mask_P[i] = 1.0\n",
    "    else:\n",
    "        P_masked += 1\n",
    "        mask_P[i] = hp.UNSEEN\n",
    "        s_n_P[i]  = hp.UNSEEN"
   ]
  },
  {
   "cell_type": "code",
   "execution_count": 22,
   "metadata": {},
   "outputs": [],
   "source": [
    "spdust_tot  = ame_comp1[0]*sdust(x,ame_comp1[0],ame_comp1[2],ame_comp1[1]) + ame_comp2[0]*sdust(x,ame_comp2[0],ame_comp2[2],ame_comp2[1])\n",
    "spdust_tot  = spdust_tot/np.max(spdust_tot)"
   ]
  },
  {
   "cell_type": "code",
   "execution_count": 23,
   "metadata": {},
   "outputs": [
    {
     "name": "stdout",
     "output_type": "stream",
     "text": [
      "Sky fraction:  1.0\n",
      "Sky fraction:  1.0\n",
      "Sky fraction:  1.0\n",
      "0.5112263157678931\n",
      "0.5372539326746232\n"
     ]
    }
   ],
   "source": [
    "mask_maps(mask_Q,'Q')\n",
    "sky_frac(mask_Q)\n",
    "mask_maps(mask_U,'U')\n",
    "sky_frac(mask_U)\n",
    "mask_maps(mask_P,'P')\n",
    "sky_frac(mask_P)\n",
    "\n",
    "ame_over_353_median = np.nanmedian(I_ame_over_I_353)\n",
    "ame_over_353_mean   = np.nanmean(I_ame_over_I_353)\n",
    "print(ame_over_353_median)\n",
    "print(ame_over_353_mean)\n",
    "spdust_tot *= ame_over_353_mean"
   ]
  },
  {
   "cell_type": "code",
   "execution_count": 24,
   "metadata": {},
   "outputs": [],
   "source": [
    "# ame_col = ['yellow','gold','orange','darkorange','orangered']\n",
    "ame_col = ['goldenrod','orange','darkorange','chocolate','saddlebrown']\n",
    "amp_col = ['royalblue','cadetblue','steelblue','darkturquoise','cyan']\n",
    "colors = [cm.plasma(i) for i in np.linspace(0, 1, 12)]"
   ]
  },
  {
   "cell_type": "code",
   "execution_count": 25,
   "metadata": {},
   "outputs": [
    {
     "name": "stdout",
     "output_type": "stream",
     "text": [
      "Q -110.54603152683345 0.40892612023401104 111.36388376730147\n",
      "U -217.46704195195477 1.3165307750067887 220.10010350196833\n",
      "P -0.6892562984666065 0.842073506623039 2.3734033117126847\n"
     ]
    }
   ],
   "source": [
    "s_Q_mean = np.nanmean(synch_Q_scaled)\n",
    "s_Q_std  = np.nanstd(synch_Q_scaled)\n",
    "s_Q_low  = s_Q_mean - s_Q_std\n",
    "s_Q_high = s_Q_mean + s_Q_std\n",
    "print(\"Q\",s_Q_low,s_Q_mean,s_Q_high)\n",
    "\n",
    "s_U_mean = np.nanmean(synch_U_scaled)\n",
    "s_U_std  = np.nanstd(synch_U_scaled)\n",
    "s_U_low  = s_U_mean - s_U_std\n",
    "s_U_high = s_U_mean + s_U_std\n",
    "print(\"U\",s_U_low,s_U_mean,s_U_high)\n",
    "\n",
    "s_P_mean = np.nanmean(synch_P_scaled)\n",
    "s_P_std  = np.nanstd(synch_P_scaled)\n",
    "s_P_low  = s_P_mean - s_P_std\n",
    "s_P_high = s_P_mean + s_P_std\n",
    "print(\"P\",s_P_low,s_P_mean,s_P_high)"
   ]
  },
  {
   "cell_type": "code",
   "execution_count": 26,
   "metadata": {},
   "outputs": [
    {
     "name": "stdout",
     "output_type": "stream",
     "text": [
      "[0.09612342348866666, 0.06830495201333332, 0.09126748523333333, 0.06392081193333332]\n",
      "[0.04007220530447221, 0.009262473222838625, 0.024765525114433175, 0.012729814362933922]\n",
      "[28.4, 44.1, 33.0, 40.6]\n"
     ]
    },
    {
     "data": {
      "image/png": "[encoded data removed]",
      "text/plain": [
       "<Figure size 432x432 with 1 Axes>"
      ]
     },
     "metadata": {
      "needs_background": "light"
     },
     "output_type": "display_data"
    }
   ],
   "source": [
    "t_err   = []\n",
    "t_amps  = []\n",
    "t_freqs = []\n",
    "for i in range(len(dust_Q_means)):\n",
    "    if dust_P_means[i] != 0.0:\n",
    "        t_amps.append(dust_Q_means[i])\n",
    "        t_err.append(dust_Q_std[i])\n",
    "        t_freqs.append(freq[i])\n",
    "\n",
    "# t_amps.append(dust_Q_means[0])\n",
    "# t_err.append(dust_Q_std[0])\n",
    "# t_freqs.append(freq[0])\n",
    "\n",
    "# t_amps.append(dust_Q_means[3])\n",
    "# t_err.append(dust_Q_std[3])\n",
    "# t_freqs.append(freq[3])\n",
    "        \n",
    "print(t_amps)        \n",
    "print(t_err)\n",
    "print(t_freqs)\n",
    "\n",
    "# if (t_d_std != 0.0):\n",
    "T_d = t_d_mean #np.linspace(19.5,19.7,100)\n",
    "# else:\n",
    "#     T_d = np.linspace(t_d_mean-t_d_std,t_d_mean+t_d_std,100)\n",
    "if (beta_d_std != 0.0):\n",
    "    beta_d = np.linspace(beta_d_mean-beta_d_std,beta_d_mean+beta_d_std,100)\n",
    "else:\n",
    "    beta_d = beta_d_mean\n",
    "pmax  = np.linspace(0,22,1000)\n",
    "vals  = np.empty(1000)\n",
    "vals  = 0.0\n",
    "\n",
    "for i in range(100):\n",
    "    vals += fit_ame_2_amps(spdust_tot,mbb(1.0,353.,x,T_d,beta_d[i]),x,t_amps,t_freqs,t_err)\n",
    "\n",
    "norm  = np.trapz(vals,pmax)    \n",
    "cumul = np.cumsum(vals)    \n",
    "dummy = np.empty(1000)\n",
    "xfill = np.where(cumul/cumul[-1] < 0.95)[-1]\n",
    "dummy[:] = 0.0    \n",
    "\n",
    "fig, ax = plt.subplots(figsize=(6,6))\n",
    "ax.plot(pmax,vals/norm)\n",
    "ax.set_xlabel(r'$p_{\\rm max}\\, [{\\rm \\%}]$',size=20)\n",
    "ax.set_ylabel(r'$p(p_{\\rm max}\\,|A_{\\rm d},\\,A_{\\rm s},\\,{\\rm d})$',size=20)\n",
    "ax.set_xlim([0,20])\n",
    "ax.set_ylim([0,1.1*np.max(vals/norm)])\n",
    "ax.fill_between(pmax[:xfill[-1]],dummy[:xfill[-1]],vals[:xfill[-1]]/norm,color='blue',alpha=0.4,label=r'${\\rm 95\\,\\%\\, Confidence\\, Interval}$')\n",
    "plt.savefig('../'+dir+'/P_amp_bestfit_posterior_w_sed_'+version+'.pdf',dpi=300,bbox_inches='tight')\n",
    "plt.show()"
   ]
  },
  {
   "cell_type": "code",
   "execution_count": 27,
   "metadata": {},
   "outputs": [
    {
     "data": {
      "image/png": "[encoded data removed]",
      "text/plain": [
       "<Figure size 432x432 with 1 Axes>"
      ]
     },
     "metadata": {
      "needs_background": "light"
     },
     "output_type": "display_data"
    }
   ],
   "source": [
    "plot_SED()"
   ]
  },
  {
   "cell_type": "code",
   "execution_count": null,
   "metadata": {},
   "outputs": [],
   "source": [
    "def sim_data(freqz):\n",
    "    ame = ame_comp1[0]*sdust(x,ame_comp1[0],ame_comp1[2],ame_comp1[1]) + ame_comp2[0]*sdust(x,ame_comp2[0],ame_comp2[2],ame_comp2[1])\n",
    "    ame = ame/np.max(ame)*ame_over_353_mean\n",
    "    sp_amp = np.interp(freqz,x,ame)\n",
    "    print('Frequency',freqz)\n",
    "    print('Thermal',mbb(1.0,353.,freqz,19.6,1.53))\n",
    "    print('AME 22%',sp_amp)\n",
    "    print('Synch',power_law(1.0,30.0,freqz,-3.1))\n",
    "    print('')\n",
    "    plt.loglog(x,ame)\n",
    "    plt.scatter(freq,dust_Q_means,label='This work',color='k',zorder=10)\n",
    "    plt.errorbar(freq,dust_Q_means,dust_Q_std,fmt='.',color='k',zorder=10)\n",
    "    plt.ylim([1e-3,1e3])\n",
    "    plt.loglog(x,power_law(1.0,30.0,x,-3.1))\n",
    "    plt.loglog(x,mbb(1.0,353.,x,19.6,1.53))\n",
    "    plt.show()"
   ]
  },
  {
   "cell_type": "code",
   "execution_count": null,
   "metadata": {},
   "outputs": [],
   "source": [
    "# print(cmb_to_rj(33.0,1.0))\n",
    "sim_data(28.4)\n",
    "sim_data(44.1)\n",
    "sim_data(70.3)\n",
    "sim_data(33.0)\n",
    "sim_data(40.6)\n",
    "# print(freq)\n",
    "# sim_data(30.)\n",
    "# sim_data(45.)\n",
    "# sim_data(70.)\n",
    "# sim_data(100.)"
   ]
  },
  {
   "cell_type": "code",
   "execution_count": null,
   "metadata": {},
   "outputs": [],
   "source": []
  }
 ],
 "metadata": {
  "kernelspec": {
   "display_name": "Python 3",
   "language": "python",
   "name": "python3"
  },
  "language_info": {
   "codemirror_mode": {
    "name": "ipython",
    "version": 3
   },
   "file_extension": ".py",
   "mimetype": "text/x-python",
   "name": "python",
   "nbconvert_exporter": "python",
   "pygments_lexer": "ipython3",
   "version": "3.7.9"
  }
 },
 "nbformat": 4,
 "nbformat_minor": 4
}
